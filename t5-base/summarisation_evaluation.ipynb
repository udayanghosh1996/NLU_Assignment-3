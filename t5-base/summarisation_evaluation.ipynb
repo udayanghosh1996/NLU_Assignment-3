{
 "cells": [
  {
   "cell_type": "markdown",
   "id": "d125a872-f48b-4b25-8528-f745115115b1",
   "metadata": {},
   "source": [
    "## Loss Visualisation"
   ]
  },
  {
   "cell_type": "code",
   "execution_count": 48,
   "id": "4d2981cf-ea5c-4e26-b866-bbb1d8717700",
   "metadata": {},
   "outputs": [],
   "source": [
    "import pandas as pd\n",
    "import seaborn as sns\n",
    "import matplotlib.pyplot as plt\n",
    "df = pd.read_excel(\"/home/jupyter/duplicates_detection/intl-duplicates/det_lat/test_folder/summarization_training_logs.xlsx\")"
   ]
  },
  {
   "cell_type": "code",
   "execution_count": 51,
   "id": "b0fdd8a7-9b2d-464c-bd87-03cdef3cbe2a",
   "metadata": {},
   "outputs": [
    {
     "data": {
      "text/html": [
       "<div>\n",
       "<style scoped>\n",
       "    .dataframe tbody tr th:only-of-type {\n",
       "        vertical-align: middle;\n",
       "    }\n",
       "\n",
       "    .dataframe tbody tr th {\n",
       "        vertical-align: top;\n",
       "    }\n",
       "\n",
       "    .dataframe thead th {\n",
       "        text-align: right;\n",
       "    }\n",
       "</style>\n",
       "<table border=\"1\" class=\"dataframe\">\n",
       "  <thead>\n",
       "    <tr style=\"text-align: right;\">\n",
       "      <th></th>\n",
       "      <th>loss</th>\n",
       "      <th>learning_rate</th>\n",
       "      <th>epoch</th>\n",
       "      <th>step</th>\n",
       "      <th>eval_loss</th>\n",
       "      <th>eval_rouge1</th>\n",
       "      <th>eval_rouge2</th>\n",
       "      <th>eval_rougeL</th>\n",
       "      <th>eval_bleu</th>\n",
       "      <th>eval_gen_len</th>\n",
       "      <th>eval_runtime</th>\n",
       "      <th>eval_samples_per_second</th>\n",
       "      <th>eval_steps_per_second</th>\n",
       "      <th>train_runtime</th>\n",
       "      <th>train_samples_per_second</th>\n",
       "      <th>train_steps_per_second</th>\n",
       "      <th>total_flos</th>\n",
       "      <th>train_loss</th>\n",
       "    </tr>\n",
       "  </thead>\n",
       "  <tbody>\n",
       "    <tr>\n",
       "      <th>0</th>\n",
       "      <td>8.7137</td>\n",
       "      <td>0.000992</td>\n",
       "      <td>0.08</td>\n",
       "      <td>500</td>\n",
       "      <td>NaN</td>\n",
       "      <td>NaN</td>\n",
       "      <td>NaN</td>\n",
       "      <td>NaN</td>\n",
       "      <td>NaN</td>\n",
       "      <td>NaN</td>\n",
       "      <td>NaN</td>\n",
       "      <td>NaN</td>\n",
       "      <td>NaN</td>\n",
       "      <td>NaN</td>\n",
       "      <td>NaN</td>\n",
       "      <td>NaN</td>\n",
       "      <td>NaN</td>\n",
       "      <td>NaN</td>\n",
       "    </tr>\n",
       "    <tr>\n",
       "      <th>1</th>\n",
       "      <td>8.0227</td>\n",
       "      <td>0.000984</td>\n",
       "      <td>0.16</td>\n",
       "      <td>1000</td>\n",
       "      <td>NaN</td>\n",
       "      <td>NaN</td>\n",
       "      <td>NaN</td>\n",
       "      <td>NaN</td>\n",
       "      <td>NaN</td>\n",
       "      <td>NaN</td>\n",
       "      <td>NaN</td>\n",
       "      <td>NaN</td>\n",
       "      <td>NaN</td>\n",
       "      <td>NaN</td>\n",
       "      <td>NaN</td>\n",
       "      <td>NaN</td>\n",
       "      <td>NaN</td>\n",
       "      <td>NaN</td>\n",
       "    </tr>\n",
       "    <tr>\n",
       "      <th>2</th>\n",
       "      <td>7.6907</td>\n",
       "      <td>0.000977</td>\n",
       "      <td>0.24</td>\n",
       "      <td>1500</td>\n",
       "      <td>NaN</td>\n",
       "      <td>NaN</td>\n",
       "      <td>NaN</td>\n",
       "      <td>NaN</td>\n",
       "      <td>NaN</td>\n",
       "      <td>NaN</td>\n",
       "      <td>NaN</td>\n",
       "      <td>NaN</td>\n",
       "      <td>NaN</td>\n",
       "      <td>NaN</td>\n",
       "      <td>NaN</td>\n",
       "      <td>NaN</td>\n",
       "      <td>NaN</td>\n",
       "      <td>NaN</td>\n",
       "    </tr>\n",
       "    <tr>\n",
       "      <th>3</th>\n",
       "      <td>7.4936</td>\n",
       "      <td>0.000969</td>\n",
       "      <td>0.31</td>\n",
       "      <td>2000</td>\n",
       "      <td>NaN</td>\n",
       "      <td>NaN</td>\n",
       "      <td>NaN</td>\n",
       "      <td>NaN</td>\n",
       "      <td>NaN</td>\n",
       "      <td>NaN</td>\n",
       "      <td>NaN</td>\n",
       "      <td>NaN</td>\n",
       "      <td>NaN</td>\n",
       "      <td>NaN</td>\n",
       "      <td>NaN</td>\n",
       "      <td>NaN</td>\n",
       "      <td>NaN</td>\n",
       "      <td>NaN</td>\n",
       "    </tr>\n",
       "    <tr>\n",
       "      <th>4</th>\n",
       "      <td>7.2915</td>\n",
       "      <td>0.000961</td>\n",
       "      <td>0.39</td>\n",
       "      <td>2500</td>\n",
       "      <td>NaN</td>\n",
       "      <td>NaN</td>\n",
       "      <td>NaN</td>\n",
       "      <td>NaN</td>\n",
       "      <td>NaN</td>\n",
       "      <td>NaN</td>\n",
       "      <td>NaN</td>\n",
       "      <td>NaN</td>\n",
       "      <td>NaN</td>\n",
       "      <td>NaN</td>\n",
       "      <td>NaN</td>\n",
       "      <td>NaN</td>\n",
       "      <td>NaN</td>\n",
       "      <td>NaN</td>\n",
       "    </tr>\n",
       "  </tbody>\n",
       "</table>\n",
       "</div>"
      ],
      "text/plain": [
       "     loss  learning_rate  epoch  step  eval_loss  eval_rouge1  eval_rouge2  \\\n",
       "0  8.7137       0.000992   0.08   500        NaN          NaN          NaN   \n",
       "1  8.0227       0.000984   0.16  1000        NaN          NaN          NaN   \n",
       "2  7.6907       0.000977   0.24  1500        NaN          NaN          NaN   \n",
       "3  7.4936       0.000969   0.31  2000        NaN          NaN          NaN   \n",
       "4  7.2915       0.000961   0.39  2500        NaN          NaN          NaN   \n",
       "\n",
       "   eval_rougeL  eval_bleu  eval_gen_len  eval_runtime  \\\n",
       "0          NaN        NaN           NaN           NaN   \n",
       "1          NaN        NaN           NaN           NaN   \n",
       "2          NaN        NaN           NaN           NaN   \n",
       "3          NaN        NaN           NaN           NaN   \n",
       "4          NaN        NaN           NaN           NaN   \n",
       "\n",
       "   eval_samples_per_second  eval_steps_per_second  train_runtime  \\\n",
       "0                      NaN                    NaN            NaN   \n",
       "1                      NaN                    NaN            NaN   \n",
       "2                      NaN                    NaN            NaN   \n",
       "3                      NaN                    NaN            NaN   \n",
       "4                      NaN                    NaN            NaN   \n",
       "\n",
       "   train_samples_per_second  train_steps_per_second  total_flos  train_loss  \n",
       "0                       NaN                     NaN         NaN         NaN  \n",
       "1                       NaN                     NaN         NaN         NaN  \n",
       "2                       NaN                     NaN         NaN         NaN  \n",
       "3                       NaN                     NaN         NaN         NaN  \n",
       "4                       NaN                     NaN         NaN         NaN  "
      ]
     },
     "execution_count": 51,
     "metadata": {},
     "output_type": "execute_result"
    }
   ],
   "source": [
    "df.head()"
   ]
  },
  {
   "cell_type": "code",
   "execution_count": 49,
   "id": "2529c33a-a67d-41cb-8b73-a55564726b1a",
   "metadata": {},
   "outputs": [],
   "source": [
    "df.drop(columns = 'Unnamed: 0', inplace = True)"
   ]
  },
  {
   "cell_type": "code",
   "execution_count": 50,
   "id": "a5e1117f-af1a-45b7-bceb-7ca263ced7f3",
   "metadata": {},
   "outputs": [
    {
     "data": {
      "text/plain": [
       "Index(['loss', 'learning_rate', 'epoch', 'step', 'eval_loss', 'eval_rouge1',\n",
       "       'eval_rouge2', 'eval_rougeL', 'eval_bleu', 'eval_gen_len',\n",
       "       'eval_runtime', 'eval_samples_per_second', 'eval_steps_per_second',\n",
       "       'train_runtime', 'train_samples_per_second', 'train_steps_per_second',\n",
       "       'total_flos', 'train_loss'],\n",
       "      dtype='object')"
      ]
     },
     "execution_count": 50,
     "metadata": {},
     "output_type": "execute_result"
    }
   ],
   "source": [
    "df.columns"
   ]
  },
  {
   "cell_type": "code",
   "execution_count": 58,
   "id": "dd3c0e40-3854-4a0e-b946-18484fbe8b50",
   "metadata": {},
   "outputs": [
    {
     "data": {
      "text/html": [
       "<div>\n",
       "<style scoped>\n",
       "    .dataframe tbody tr th:only-of-type {\n",
       "        vertical-align: middle;\n",
       "    }\n",
       "\n",
       "    .dataframe tbody tr th {\n",
       "        vertical-align: top;\n",
       "    }\n",
       "\n",
       "    .dataframe thead th {\n",
       "        text-align: right;\n",
       "    }\n",
       "</style>\n",
       "<table border=\"1\" class=\"dataframe\">\n",
       "  <thead>\n",
       "    <tr style=\"text-align: right;\">\n",
       "      <th></th>\n",
       "      <th>loss</th>\n",
       "      <th>learning_rate</th>\n",
       "      <th>epoch</th>\n",
       "      <th>step</th>\n",
       "      <th>eval_loss</th>\n",
       "      <th>eval_rouge1</th>\n",
       "      <th>eval_rouge2</th>\n",
       "      <th>eval_rougeL</th>\n",
       "      <th>eval_bleu</th>\n",
       "      <th>eval_gen_len</th>\n",
       "      <th>eval_runtime</th>\n",
       "      <th>eval_samples_per_second</th>\n",
       "      <th>eval_steps_per_second</th>\n",
       "      <th>train_runtime</th>\n",
       "      <th>train_samples_per_second</th>\n",
       "      <th>train_steps_per_second</th>\n",
       "      <th>total_flos</th>\n",
       "      <th>train_loss</th>\n",
       "    </tr>\n",
       "  </thead>\n",
       "  <tbody>\n",
       "    <tr>\n",
       "      <th>12</th>\n",
       "      <td>NaN</td>\n",
       "      <td>NaN</td>\n",
       "      <td>1.0</td>\n",
       "      <td>6375</td>\n",
       "      <td>6.576590</td>\n",
       "      <td>0.0000</td>\n",
       "      <td>0.0000</td>\n",
       "      <td>0.0000</td>\n",
       "      <td>0.0596</td>\n",
       "      <td>128.0</td>\n",
       "      <td>1604.2814</td>\n",
       "      <td>0.701</td>\n",
       "      <td>0.351</td>\n",
       "      <td>NaN</td>\n",
       "      <td>NaN</td>\n",
       "      <td>NaN</td>\n",
       "      <td>NaN</td>\n",
       "      <td>NaN</td>\n",
       "    </tr>\n",
       "    <tr>\n",
       "      <th>26</th>\n",
       "      <td>NaN</td>\n",
       "      <td>NaN</td>\n",
       "      <td>2.0</td>\n",
       "      <td>12750</td>\n",
       "      <td>6.213681</td>\n",
       "      <td>0.0000</td>\n",
       "      <td>0.0000</td>\n",
       "      <td>0.0000</td>\n",
       "      <td>0.0541</td>\n",
       "      <td>128.0</td>\n",
       "      <td>1661.3194</td>\n",
       "      <td>0.677</td>\n",
       "      <td>0.339</td>\n",
       "      <td>NaN</td>\n",
       "      <td>NaN</td>\n",
       "      <td>NaN</td>\n",
       "      <td>NaN</td>\n",
       "      <td>NaN</td>\n",
       "    </tr>\n",
       "    <tr>\n",
       "      <th>40</th>\n",
       "      <td>NaN</td>\n",
       "      <td>NaN</td>\n",
       "      <td>3.0</td>\n",
       "      <td>19125</td>\n",
       "      <td>5.997968</td>\n",
       "      <td>0.0000</td>\n",
       "      <td>0.0000</td>\n",
       "      <td>0.0000</td>\n",
       "      <td>0.0794</td>\n",
       "      <td>128.0</td>\n",
       "      <td>1667.8991</td>\n",
       "      <td>0.675</td>\n",
       "      <td>0.338</td>\n",
       "      <td>NaN</td>\n",
       "      <td>NaN</td>\n",
       "      <td>NaN</td>\n",
       "      <td>NaN</td>\n",
       "      <td>NaN</td>\n",
       "    </tr>\n",
       "    <tr>\n",
       "      <th>54</th>\n",
       "      <td>NaN</td>\n",
       "      <td>NaN</td>\n",
       "      <td>4.0</td>\n",
       "      <td>25500</td>\n",
       "      <td>5.874402</td>\n",
       "      <td>0.0009</td>\n",
       "      <td>0.0000</td>\n",
       "      <td>0.0009</td>\n",
       "      <td>0.0648</td>\n",
       "      <td>128.0</td>\n",
       "      <td>1657.9292</td>\n",
       "      <td>0.679</td>\n",
       "      <td>0.340</td>\n",
       "      <td>NaN</td>\n",
       "      <td>NaN</td>\n",
       "      <td>NaN</td>\n",
       "      <td>NaN</td>\n",
       "      <td>NaN</td>\n",
       "    </tr>\n",
       "    <tr>\n",
       "      <th>67</th>\n",
       "      <td>NaN</td>\n",
       "      <td>NaN</td>\n",
       "      <td>5.0</td>\n",
       "      <td>31875</td>\n",
       "      <td>5.771347</td>\n",
       "      <td>0.0000</td>\n",
       "      <td>0.0000</td>\n",
       "      <td>0.0000</td>\n",
       "      <td>0.0665</td>\n",
       "      <td>128.0</td>\n",
       "      <td>1654.9960</td>\n",
       "      <td>0.680</td>\n",
       "      <td>0.340</td>\n",
       "      <td>NaN</td>\n",
       "      <td>NaN</td>\n",
       "      <td>NaN</td>\n",
       "      <td>NaN</td>\n",
       "      <td>NaN</td>\n",
       "    </tr>\n",
       "    <tr>\n",
       "      <th>81</th>\n",
       "      <td>NaN</td>\n",
       "      <td>NaN</td>\n",
       "      <td>6.0</td>\n",
       "      <td>38250</td>\n",
       "      <td>5.736332</td>\n",
       "      <td>0.0000</td>\n",
       "      <td>0.0000</td>\n",
       "      <td>0.0000</td>\n",
       "      <td>0.0918</td>\n",
       "      <td>128.0</td>\n",
       "      <td>1663.3600</td>\n",
       "      <td>0.676</td>\n",
       "      <td>0.338</td>\n",
       "      <td>NaN</td>\n",
       "      <td>NaN</td>\n",
       "      <td>NaN</td>\n",
       "      <td>NaN</td>\n",
       "      <td>NaN</td>\n",
       "    </tr>\n",
       "    <tr>\n",
       "      <th>95</th>\n",
       "      <td>NaN</td>\n",
       "      <td>NaN</td>\n",
       "      <td>7.0</td>\n",
       "      <td>44625</td>\n",
       "      <td>5.705653</td>\n",
       "      <td>0.0009</td>\n",
       "      <td>0.0000</td>\n",
       "      <td>0.0009</td>\n",
       "      <td>0.0434</td>\n",
       "      <td>128.0</td>\n",
       "      <td>1602.9396</td>\n",
       "      <td>0.702</td>\n",
       "      <td>0.351</td>\n",
       "      <td>NaN</td>\n",
       "      <td>NaN</td>\n",
       "      <td>NaN</td>\n",
       "      <td>NaN</td>\n",
       "      <td>NaN</td>\n",
       "    </tr>\n",
       "    <tr>\n",
       "      <th>109</th>\n",
       "      <td>NaN</td>\n",
       "      <td>NaN</td>\n",
       "      <td>8.0</td>\n",
       "      <td>51000</td>\n",
       "      <td>5.734344</td>\n",
       "      <td>0.0030</td>\n",
       "      <td>0.0000</td>\n",
       "      <td>0.0031</td>\n",
       "      <td>0.0539</td>\n",
       "      <td>128.0</td>\n",
       "      <td>1597.8823</td>\n",
       "      <td>0.704</td>\n",
       "      <td>0.352</td>\n",
       "      <td>NaN</td>\n",
       "      <td>NaN</td>\n",
       "      <td>NaN</td>\n",
       "      <td>NaN</td>\n",
       "      <td>NaN</td>\n",
       "    </tr>\n",
       "    <tr>\n",
       "      <th>122</th>\n",
       "      <td>NaN</td>\n",
       "      <td>NaN</td>\n",
       "      <td>9.0</td>\n",
       "      <td>57375</td>\n",
       "      <td>5.783319</td>\n",
       "      <td>0.0017</td>\n",
       "      <td>0.0001</td>\n",
       "      <td>0.0016</td>\n",
       "      <td>0.0503</td>\n",
       "      <td>128.0</td>\n",
       "      <td>1594.4050</td>\n",
       "      <td>0.706</td>\n",
       "      <td>0.353</td>\n",
       "      <td>NaN</td>\n",
       "      <td>NaN</td>\n",
       "      <td>NaN</td>\n",
       "      <td>NaN</td>\n",
       "      <td>NaN</td>\n",
       "    </tr>\n",
       "    <tr>\n",
       "      <th>136</th>\n",
       "      <td>NaN</td>\n",
       "      <td>NaN</td>\n",
       "      <td>10.0</td>\n",
       "      <td>63750</td>\n",
       "      <td>5.870564</td>\n",
       "      <td>0.0112</td>\n",
       "      <td>0.0000</td>\n",
       "      <td>0.0110</td>\n",
       "      <td>0.0463</td>\n",
       "      <td>128.0</td>\n",
       "      <td>1603.2141</td>\n",
       "      <td>0.702</td>\n",
       "      <td>0.351</td>\n",
       "      <td>NaN</td>\n",
       "      <td>NaN</td>\n",
       "      <td>NaN</td>\n",
       "      <td>NaN</td>\n",
       "      <td>NaN</td>\n",
       "    </tr>\n",
       "  </tbody>\n",
       "</table>\n",
       "</div>"
      ],
      "text/plain": [
       "     loss  learning_rate  epoch   step  eval_loss  eval_rouge1  eval_rouge2  \\\n",
       "12    NaN            NaN    1.0   6375   6.576590       0.0000       0.0000   \n",
       "26    NaN            NaN    2.0  12750   6.213681       0.0000       0.0000   \n",
       "40    NaN            NaN    3.0  19125   5.997968       0.0000       0.0000   \n",
       "54    NaN            NaN    4.0  25500   5.874402       0.0009       0.0000   \n",
       "67    NaN            NaN    5.0  31875   5.771347       0.0000       0.0000   \n",
       "81    NaN            NaN    6.0  38250   5.736332       0.0000       0.0000   \n",
       "95    NaN            NaN    7.0  44625   5.705653       0.0009       0.0000   \n",
       "109   NaN            NaN    8.0  51000   5.734344       0.0030       0.0000   \n",
       "122   NaN            NaN    9.0  57375   5.783319       0.0017       0.0001   \n",
       "136   NaN            NaN   10.0  63750   5.870564       0.0112       0.0000   \n",
       "\n",
       "     eval_rougeL  eval_bleu  eval_gen_len  eval_runtime  \\\n",
       "12        0.0000     0.0596         128.0     1604.2814   \n",
       "26        0.0000     0.0541         128.0     1661.3194   \n",
       "40        0.0000     0.0794         128.0     1667.8991   \n",
       "54        0.0009     0.0648         128.0     1657.9292   \n",
       "67        0.0000     0.0665         128.0     1654.9960   \n",
       "81        0.0000     0.0918         128.0     1663.3600   \n",
       "95        0.0009     0.0434         128.0     1602.9396   \n",
       "109       0.0031     0.0539         128.0     1597.8823   \n",
       "122       0.0016     0.0503         128.0     1594.4050   \n",
       "136       0.0110     0.0463         128.0     1603.2141   \n",
       "\n",
       "     eval_samples_per_second  eval_steps_per_second  train_runtime  \\\n",
       "12                     0.701                  0.351            NaN   \n",
       "26                     0.677                  0.339            NaN   \n",
       "40                     0.675                  0.338            NaN   \n",
       "54                     0.679                  0.340            NaN   \n",
       "67                     0.680                  0.340            NaN   \n",
       "81                     0.676                  0.338            NaN   \n",
       "95                     0.702                  0.351            NaN   \n",
       "109                    0.704                  0.352            NaN   \n",
       "122                    0.706                  0.353            NaN   \n",
       "136                    0.702                  0.351            NaN   \n",
       "\n",
       "     train_samples_per_second  train_steps_per_second  total_flos  train_loss  \n",
       "12                        NaN                     NaN         NaN         NaN  \n",
       "26                        NaN                     NaN         NaN         NaN  \n",
       "40                        NaN                     NaN         NaN         NaN  \n",
       "54                        NaN                     NaN         NaN         NaN  \n",
       "67                        NaN                     NaN         NaN         NaN  \n",
       "81                        NaN                     NaN         NaN         NaN  \n",
       "95                        NaN                     NaN         NaN         NaN  \n",
       "109                       NaN                     NaN         NaN         NaN  \n",
       "122                       NaN                     NaN         NaN         NaN  \n",
       "136                       NaN                     NaN         NaN         NaN  "
      ]
     },
     "execution_count": 58,
     "metadata": {},
     "output_type": "execute_result"
    }
   ],
   "source": [
    "df[df.eval_loss.notnull()]"
   ]
  },
  {
   "cell_type": "code",
   "execution_count": 60,
   "id": "4fbfe0bc-66d0-490b-98df-06dd997d2adc",
   "metadata": {},
   "outputs": [
    {
     "data": {
      "image/png": "[encoded data removed]",
      "text/plain": [
       "<Figure size 640x480 with 1 Axes>"
      ]
     },
     "metadata": {},
     "output_type": "display_data"
    }
   ],
   "source": [
    "# Visualize loss history\n",
    "plt.plot(df['epoch'], df['loss'], 'r--')\n",
    "plt.plot(df[df.eval_loss.notnull()]['epoch'], df[df.eval_loss.notnull()]['eval_loss'], 'b-')\n",
    "plt.legend(['Training Loss','Validation Loss'])\n",
    "plt.xlabel('Epoch')\n",
    "plt.ylabel('Loss')\n",
    "plt.show();"
   ]
  },
  {
   "cell_type": "markdown",
   "id": "1b1a6566-730d-4cc3-9af6-042bb82a3bb5",
   "metadata": {},
   "source": [
    "## Inference"
   ]
  },
  {
   "cell_type": "code",
   "execution_count": null,
   "id": "cebccde8-dcae-434e-8d1b-a344adb8c6b3",
   "metadata": {},
   "outputs": [],
   "source": [
    "from datapull import pull_data\n",
    "from datasets import DatasetDict\n",
    "task = \"summarization\""
   ]
  },
  {
   "cell_type": "code",
   "execution_count": 2,
   "id": "3f96f813-7a67-413d-b145-c2bbce19a347",
   "metadata": {},
   "outputs": [],
   "source": [
    "english_file_path = None\n",
    "hindi_file_path = None\n"
   ]
  },
  {
   "cell_type": "code",
   "execution_count": 3,
   "id": "f21c76c5-8ea5-48de-a50e-9817d302e2d4",
   "metadata": {},
   "outputs": [
    {
     "name": "stdout",
     "output_type": "stream",
     "text": [
      "Loading IndicHeadlineGeneration Data : \n",
      "Train-Test-Valiation Split : \n"
     ]
    }
   ],
   "source": [
    "dataset = pull_data(english_file_path, hindi_file_path,task)\n",
    "\n",
    "## Train-Test-Valiation Split \n",
    "print(\"Train-Test-Valiation Split : \")\n",
    "train_test_dataset = dataset.train_test_split(test_size=0.15)\n",
    "test_valid = train_test_dataset['test'].train_test_split(test_size=0.5)\n",
    "raw_datasets = DatasetDict({'train': train_test_dataset['train'],\n",
    "                            'test': test_valid['test'],\n",
    "                            'valid': test_valid['train']})\n"
   ]
  },
  {
   "cell_type": "code",
   "execution_count": 4,
   "id": "fcacda84-d48f-4583-a9bf-a2710bf7b046",
   "metadata": {},
   "outputs": [
    {
     "data": {
      "text/plain": [
       "DatasetDict({\n",
       "    train: Dataset({\n",
       "        features: ['id', 'input', 'target', 'url'],\n",
       "        num_rows: 1700\n",
       "    })\n",
       "    test: Dataset({\n",
       "        features: ['id', 'input', 'target', 'url'],\n",
       "        num_rows: 150\n",
       "    })\n",
       "    valid: Dataset({\n",
       "        features: ['id', 'input', 'target', 'url'],\n",
       "        num_rows: 150\n",
       "    })\n",
       "})"
      ]
     },
     "execution_count": 4,
     "metadata": {},
     "output_type": "execute_result"
    }
   ],
   "source": [
    "raw_datasets"
   ]
  },
  {
   "cell_type": "code",
   "execution_count": 5,
   "id": "59e6a095-29fa-4fa4-8c81-ecc933639ef0",
   "metadata": {},
   "outputs": [
    {
     "data": {
      "text/plain": [
       "{'id': '601',\n",
       " 'input': 'शिवकार्तिकेयन के अभिनय से सजी आगामी रोमांटिक कॉमेडी फिल्म \\'रेमो\\' इन दिनों काफी में छाई हुई है।यह फिल्म नवोदित निर्देशक बक्कीराज कन्नन के निर्देशन में बन रही है।चेन्नईः शिवकार्तिकेयन के अभिनय से सजी आगामी रोमांटिक कॉमेडी फिल्म \\'रेमो\\' इन दिनों काफी में छाई हुई है।यह फिल्म नवोदित निर्देशक बक्कीराज कन्नन के निर्देशन में बन रही है।इस फिल्म में शिवकार्तिकेयन एर नर्स के किरदार में नजर आएंगे।इसे लेकर फिल्म के निर्देशक का कहना है कि उन्हें इस अवतार में कोई नहीं पहचान पाया।कन्नन ने कहा, \"एक नर्स की भूमिका के लिए टीम के बाहर से कोई नहीं आया।जब हमने शिव को इस बारे में बताया तो उन्हें विश्वास नहीं हुआ।जब हम विशाखापट्टनम में शूटिंग कर रहे थे, तब यह पूछा गया कि कौन-सी अभिनेत्री इस भूमिका में है और जब हमने बताया कि वह अनुष्का की बहन हैं तो सभी ने मान लिया।\" इसे भी पढ़ेः- ओमपुरी ने सेना के जवानों पर दिया बेतुका बयान, भड़के लोग फिल्म के 60 प्रतिशत हिस्से में शिवकार्तिकेयन नर्स की भूमिका में दिखेंगे।कन्नन ने \\'मान कराटे\\' के अभिनेता की काफी प्रशंसा की।उन्होंने कहा, \"कोई भी अभिनेता इस तरह के किरदार में नहीं ढल सकता।भूमिका में ढलने के लिए मेकअप के लिए काफी धैर्य की आवश्यकता होती है, लेकिन शिवा ने कोई शिकायत नहीं की।उसने नर्स के किरदार के लिए 9 से 10 किलों वजन कम किया।\" शिवकार्तिकेयन संग काम के बारे में कन्नन ने कहा, \"वह शानदार अभिनेता हैं और खास दोस्त हैं।मैं उनके साथ दोबारा काम करना पसंद करूंगा।\" आरडी राजा द्वारा निर्मित फिल्म दुनियाभर में शुक्रवार को रिलीज होगी।इसमें कीर्ति सुरेश और सतीश प्रमुख भूमिकाओं में हैं।पर देश-विदेश की ताजा और स्पेशल स्टोरी पढ़ते हुए अपने आप को रखिए अप-टू-डेट।के लिए क्लिक करें सिनेमा सेक्शन',\n",
       " 'target': 'नर्स के अवतार में ऐसे नजर आ रहे हैं शिवकार्तिकेयन',\n",
       " 'url': 'https://www.indiatv.in/entertainment/bollywood-nobody-recognised-sivakarthikeyan-in-nurse-character-490930'}"
      ]
     },
     "execution_count": 5,
     "metadata": {},
     "output_type": "execute_result"
    }
   ],
   "source": [
    "raw_datasets['valid'][0]"
   ]
  },
  {
   "cell_type": "code",
   "execution_count": 6,
   "id": "7693077a-4237-428c-9f8f-2bea1889f96b",
   "metadata": {},
   "outputs": [],
   "source": [
    "input_text = [inp['input'] for inp in  raw_datasets['valid']][:10]\n",
    "target_text = [tar['target'] for tar in  raw_datasets['valid']][:10]"
   ]
  },
  {
   "cell_type": "code",
   "execution_count": 7,
   "id": "07a956cd-f0c5-4b3e-a4db-3aa1d5553288",
   "metadata": {},
   "outputs": [
    {
     "data": {
      "text/plain": [
       "(\"एशिया और अफ्रीका के करीब 20 देशों में परिचालन करने वाली दूरसंचार कंपनी भारती एयरटेल ने आज कहा कि वह कोर्ट ऑफ अपील, लागोस द्वारा 14 फरवरी को जारी फैसले को नाइजीरिया के उच्चतम न्यायालय में चुनौती देगी। कोर्ट ऑफ अपील ने फैसला नाइजीरिया की कंपनी ईकोनेट वायरलेस के हक में फैसला दिया था। ईकोनेट ने दावा किया था कि एयरटेल नेटवक्र्स लिमिटेड में उनकी 5 फीसदी हिस्सेदारी के लिए भारती एयरटेल को उन्हें 300 करोड़ डॉलर देने हैं। ईकोनेट ने यह भी कहा कि 2010 में भारती को अफ्रीकी कारोबार बेचते समय जईन ने वीमोबाइल को भी बेचा था, लेकिन उससे नहीं पूछा, जबकि उसे खरीदने का पहला अधिकार ईकोनेट का ही था। आदेश के अनुसार ईकोनेट के कुछ शेयरों की बिकवाली पर निचली अदालत के फैसले को रद्द करवाने की भारती एयरटेल की दलील कामयाब नहीं रही है। कोर्ट ऑफ अपील ने कहा कि भारती को यह स्वीकार कर लेना चाहिए कि एयरटेल नेटवक्र्स लिमिटेड में ईकोनेट वायरलेस की 5 फीसदी हिस्सेदारी है। मामले पर भारती एयरटेल के प्रवक्ता ने कहा, 'एयरटेल नेटवक्र्स लिमिटेड में 79.06 फीसदी हिस्सेदारी रखने वाली भारती एयरटेल कोर्ट ऑफ अपील, लागोस के 14 फरवरी के आदेश से संतुष्टï नहीं है। हम इस फैसले के खिलाफ नाइजीरिया की सबसे बड़ी अदालत का दरवाजा खटखटाएंगे। भारती एयरटेल यह साफ करना चाहती है कि इस फैसले से एयरटेल नाइजीरिया में उसके या दूसरे शेयरधारकों की हिस्सेदारी पर कोई असर नहीं पड़ेगा।Ó भारती एयरटेल ने एक बयान जारी कर कहा कि एयरटेल नाइजीरिया वहां के उच्चतम न्यायालय में ईकोनेट की 5 फीसदी हिस्सेदारी के दावे के खिलाफ याचिका पहले ही दायर कर चुकी है। प्रवक्ता ने कहा, 'वैसे भी ये शेयर एस्क्रो खाते यानी सौदे के दौरान बने अस्थायी खाते में रखे जाते हैं और इससे एयरटेल नाइजीरिया में भारती एयरटेल की 79.06 फीसदी हिस्सेदारी पर असर नहीं पड़ेगा।Ó बहरहाल फैसले की खबर के बाद आज बंबई स्टॉक एक्सचेंज पर भारती एयरटेल का शेयर 1.96 फीसदी गिरकर 296.8 रुपये पर बंद हुआ।\",\n",
       " 'ऊपरी अदालत में जाएगी भारती')"
      ]
     },
     "execution_count": 7,
     "metadata": {},
     "output_type": "execute_result"
    }
   ],
   "source": [
    "input_text[2],target_text[2]"
   ]
  },
  {
   "cell_type": "code",
   "execution_count": 30,
   "id": "4439ac76-0b6e-4aff-b11f-04cd68fe4cee",
   "metadata": {},
   "outputs": [],
   "source": [
    "from transformers import AutoModelForSeq2SeqLM\n",
    "from transformers import Seq2SeqTrainingArguments, DataCollatorForSeq2Seq, AutoTokenizer\n",
    "model_path = \"/home/jupyter/duplicates_detection/intl-duplicates/det_lat/test_folder/summarization-headline-summarize-finetuned-15apr/checkpoint-63750\"\n",
    "\n",
    "# Load the model checkpoint\n",
    "model = AutoModelForSeq2SeqLM.from_pretrained(model_path)\n",
    "\n",
    "# Define the tokenizer\n",
    "tokenizer = AutoTokenizer.from_pretrained(model_path)\n",
    "\n"
   ]
  },
  {
   "cell_type": "code",
   "execution_count": 31,
   "id": "1c3eccc7-37ec-4aea-8273-47b3b847e856",
   "metadata": {},
   "outputs": [],
   "source": [
    "# Tokenize the input text\n",
    "input_tokens = tokenizer.batch_encode_plus(input_text, max_length=512, truncation=True, return_tensors=\"pt\",padding=True)\n"
   ]
  },
  {
   "cell_type": "code",
   "execution_count": 32,
   "id": "fabc1827-6820-4679-a807-fc07da6e1c37",
   "metadata": {},
   "outputs": [
    {
     "data": {
      "text/plain": [
       "'2 मार्च 2018 को होली खेली जाएगी।इस साल होली में दिन शनि का दुर्लभ योग बन रहा <unk> संयोग 28 साल बाद बन रहा <unk> इस बार की होली पर शनि धनु राशि में रहेगा<unk> ीं 28 वर्षों के बाद शनि देवगुरु ब<unk> ्पति की राशि में <unk> न राशि धन<unk> नवम चंद्र रहेगा और मित्र शनि का गोचर हो रहा <unk> आय भी बनी रहेगी<unk> ाम समय पर पूरे होंगे और <unk> ोग भी प्राप्त होगा।माह के बीच में कुछ परेशानियां आ <unk> ी हैं, ल<unk> न फिर सब ठीक हो जाएगा<unk> नुमानजी को सिंदूर एवं तेल अर्पण करेंगे तो शुभ होगा।मकर राशि आज का दिन यात्रा में ब<unk> गा<unk> यात्रा में ऑफिस के काम से रिलेटेड हो <unk> ी <unk> ात्रा के <unk> रान किसी दूर के रिश्<unk> ार से आपकी मुलाकात ह</s>'"
      ]
     },
     "execution_count": 32,
     "metadata": {},
     "output_type": "execute_result"
    }
   ],
   "source": [
    "tokenizer.decode(input_tokens['input_ids'][1])"
   ]
  },
  {
   "cell_type": "code",
   "execution_count": 36,
   "id": "82553927-ba47-4baa-923f-4ceb4d791c79",
   "metadata": {},
   "outputs": [],
   "source": [
    "from transformers import AutoModelForSeq2SeqLM\n",
    "from transformers import Seq2SeqTrainingArguments, DataCollatorForSeq2Seq, AutoTokenizer\n",
    "\n",
    "def evaluate_model(model_path, input_text,ground_truth,task):\n",
    "    print(f\"{task.upper() } Evaluation : \")\n",
    "    \n",
    "    # Load the model checkpoint\n",
    "    model = AutoModelForSeq2SeqLM.from_pretrained(model_path)\n",
    "\n",
    "    # Define the tokenizer\n",
    "    tokenizer = AutoTokenizer.from_pretrained(model_path)\n",
    "\n",
    "    # Tokenize the input text\n",
    "    input_tokens = tokenizer.batch_encode_plus(input_text, max_length=512, truncation=True, return_tensors=\"pt\",padding=True)\n",
    "\n",
    "    # Perform inference\n",
    "    outputs = model.generate(input_ids=input_tokens[\"input_ids\"], attention_mask=input_tokens[\"attention_mask\"],max_length= 128,early_stopping = True)\n",
    "\n",
    "    # Decode the generated output tokens\n",
    "    output_text = tokenizer.batch_decode(outputs, skip_special_tokens=True)\n",
    "    \n",
    "    pred_list = []\n",
    "    for inp,out,gt in zip(input_text,output_text,ground_truth) :\n",
    "        print('*'*100)\n",
    "        print()\n",
    "        print(f\"{task.upper() } Model input : {inp} \")\n",
    "        print(f\"{task.upper() } Model output : {out} \")\n",
    "        print(f\"Ground Truth : {gt} \")\n",
    "        print()\n",
    "        print('*'*100)\n",
    "        pred_list.append(out)\n",
    "        \n",
    "    return pred_list"
   ]
  },
  {
   "cell_type": "code",
   "execution_count": 37,
   "id": "0fb8d0ca-9ddf-4e2d-bffc-b231a6f15f6f",
   "metadata": {},
   "outputs": [
    {
     "data": {
      "text/plain": [
       "'/home/jupyter/duplicates_detection/intl-duplicates/det_lat/test_folder/summarization-headline-summarize-finetuned-15apr/checkpoint-63750'"
      ]
     },
     "execution_count": 37,
     "metadata": {},
     "output_type": "execute_result"
    }
   ],
   "source": [
    "model_path"
   ]
  },
  {
   "cell_type": "code",
   "execution_count": 38,
   "id": "ffd17bdd-780f-4f21-929c-4abe08fd5afd",
   "metadata": {},
   "outputs": [
    {
     "name": "stdout",
     "output_type": "stream",
     "text": [
      "SUMMARIZATION Evaluation : \n",
      "****************************************************************************************************\n",
      "\n",
      "SUMMARIZATION Model input : शिवकार्तिकेयन के अभिनय से सजी आगामी रोमांटिक कॉमेडी फिल्म 'रेमो' इन दिनों काफी में छाई हुई है।यह फिल्म नवोदित निर्देशक बक्कीराज कन्नन के निर्देशन में बन रही है।चेन्नईः शिवकार्तिकेयन के अभिनय से सजी आगामी रोमांटिक कॉमेडी फिल्म 'रेमो' इन दिनों काफी में छाई हुई है।यह फिल्म नवोदित निर्देशक बक्कीराज कन्नन के निर्देशन में बन रही है।इस फिल्म में शिवकार्तिकेयन एर नर्स के किरदार में नजर आएंगे।इसे लेकर फिल्म के निर्देशक का कहना है कि उन्हें इस अवतार में कोई नहीं पहचान पाया।कन्नन ने कहा, \"एक नर्स की भूमिका के लिए टीम के बाहर से कोई नहीं आया।जब हमने शिव को इस बारे में बताया तो उन्हें विश्वास नहीं हुआ।जब हम विशाखापट्टनम में शूटिंग कर रहे थे, तब यह पूछा गया कि कौन-सी अभिनेत्री इस भूमिका में है और जब हमने बताया कि वह अनुष्का की बहन हैं तो सभी ने मान लिया।\" इसे भी पढ़ेः- ओमपुरी ने सेना के जवानों पर दिया बेतुका बयान, भड़के लोग फिल्म के 60 प्रतिशत हिस्से में शिवकार्तिकेयन नर्स की भूमिका में दिखेंगे।कन्नन ने 'मान कराटे' के अभिनेता की काफी प्रशंसा की।उन्होंने कहा, \"कोई भी अभिनेता इस तरह के किरदार में नहीं ढल सकता।भूमिका में ढलने के लिए मेकअप के लिए काफी धैर्य की आवश्यकता होती है, लेकिन शिवा ने कोई शिकायत नहीं की।उसने नर्स के किरदार के लिए 9 से 10 किलों वजन कम किया।\" शिवकार्तिकेयन संग काम के बारे में कन्नन ने कहा, \"वह शानदार अभिनेता हैं और खास दोस्त हैं।मैं उनके साथ दोबारा काम करना पसंद करूंगा।\" आरडी राजा द्वारा निर्मित फिल्म दुनियाभर में शुक्रवार को रिलीज होगी।इसमें कीर्ति सुरेश और सतीश प्रमुख भूमिकाओं में हैं।पर देश-विदेश की ताजा और स्पेशल स्टोरी पढ़ते हुए अपने आप को रखिए अप-टू-डेट।के लिए क्लिक करें सिनेमा सेक्शन \n",
      "SUMMARIZATION Model output : 'बाहुबली 2' की 'अकाली' के लिए तैयार हैं : डब्ल्यूटीओ 'दबॉय कुमार 'दबंगल 'दबंगल 'दबंगल 'दबंगल 'दबंगल 'दबंगल 'दबंगल 'दबंगल 'दबंगल 'दबंगल 'दबंगल 'दबंगल 'दबंगल 'दबंगल 'द कपिल शर्मा 'दबॉय कुमार \n",
      "Ground Truth : नर्स के अवतार में ऐसे नजर आ रहे हैं शिवकार्तिकेयन \n",
      "\n",
      "****************************************************************************************************\n",
      "****************************************************************************************************\n",
      "\n",
      "SUMMARIZATION Model input : 2 मार्च 2018 को होली खेली जाएगी।इस साल होली में दिन शनि का दुर्लभ योग बन रहा है।यह संयोग 28 साल बाद बन रहा है।इस बार की होली पर शनि धनु राशि में रहेगा।वहीं 28 वर्षों के बाद शनि देवगुरु बृहस्पति की राशि में है।धुन राशि धनुः नवम चंद्र रहेगा और मित्र शनि का गोचर हो रहा है।आय भी बनी रहेगी।काम समय पर पूरे होंगे और सहयोग भी प्राप्त होगा।माह के बीच में कुछ परेशानियां आ सकती हैं, लेकिन फिर सब ठीक हो जाएगा।हनुमानजी को सिंदूर एवं तेल अर्पण करेंगे तो शुभ होगा।मकर राशि आज का दिन यात्रा में बितेगा।ये यात्रा में ऑफिस के काम से रिलेटेड हो सकती है।यात्रा के दौरान किसी दूर के रिश्तेदार से आपकी मुलाकात हो सकती है।जिससे आपका मन प्रसन्न हो जाएगा।जो इस राशि के इंजीनियर्स के लिए आज का दिन फायदेमंद रहेगा।किसी कम्पनी से जॉब के ईमेल आ सकती है।स्टूडेंट्स के लिए आज का दिन अच्छा रहेगा।कम्पटीटिव एग्जाम से रिलेटेड कोई शुभ समाचार आपको मिल सकता है।लवमेट के लिए आज का दिन बढ़िया है।अगर कोई नयी गाड़ी खरीदना चाह रहें है तो आज ले लीजिए।आपके लिए फायदेमंद साबित होगा।आज आर्थिक क्षेत्र में स्थिरता रहेगी।परिवार में आज सुखद वातावरण का माहौल रहेगा।दाम्पत्य संबंध आज मधुरता से भरपूर रहेगा।आज आपकी उलझने कम हो सकती है।शंकर जी जल अर्पित करने से आपका मानसिक तनाव कम होगा।लवमेट के लिए आज का दिन अनुकूल है।« \n",
      "SUMMARIZATION Model output : 'अंधाधुन' के लिए 'अटल धमाल, 'अटल के लिए एक्टर में नहीं है' 'अटल 'अटल 'अटल 'अटल 'अटल 'अटल 'अटल 'अटल 'अटल 'अटल 'अटल 'अटल 'अटल 'अटल 'अटल 'अटल 'अटल 'अटल 'अटल 'अटल 'अटल 'अटल!' 'अटल 'अटल! ' \n",
      "Ground Truth : राशिफल 2 मार्च 2018: होली के दिन इन राशि वाले लोग भूल से भी यह काम न करें \n",
      "\n",
      "****************************************************************************************************\n",
      "****************************************************************************************************\n",
      "\n",
      "SUMMARIZATION Model input : एशिया और अफ्रीका के करीब 20 देशों में परिचालन करने वाली दूरसंचार कंपनी भारती एयरटेल ने आज कहा कि वह कोर्ट ऑफ अपील, लागोस द्वारा 14 फरवरी को जारी फैसले को नाइजीरिया के उच्चतम न्यायालय में चुनौती देगी। कोर्ट ऑफ अपील ने फैसला नाइजीरिया की कंपनी ईकोनेट वायरलेस के हक में फैसला दिया था। ईकोनेट ने दावा किया था कि एयरटेल नेटवक्र्स लिमिटेड में उनकी 5 फीसदी हिस्सेदारी के लिए भारती एयरटेल को उन्हें 300 करोड़ डॉलर देने हैं। ईकोनेट ने यह भी कहा कि 2010 में भारती को अफ्रीकी कारोबार बेचते समय जईन ने वीमोबाइल को भी बेचा था, लेकिन उससे नहीं पूछा, जबकि उसे खरीदने का पहला अधिकार ईकोनेट का ही था। आदेश के अनुसार ईकोनेट के कुछ शेयरों की बिकवाली पर निचली अदालत के फैसले को रद्द करवाने की भारती एयरटेल की दलील कामयाब नहीं रही है। कोर्ट ऑफ अपील ने कहा कि भारती को यह स्वीकार कर लेना चाहिए कि एयरटेल नेटवक्र्स लिमिटेड में ईकोनेट वायरलेस की 5 फीसदी हिस्सेदारी है। मामले पर भारती एयरटेल के प्रवक्ता ने कहा, 'एयरटेल नेटवक्र्स लिमिटेड में 79.06 फीसदी हिस्सेदारी रखने वाली भारती एयरटेल कोर्ट ऑफ अपील, लागोस के 14 फरवरी के आदेश से संतुष्टï नहीं है। हम इस फैसले के खिलाफ नाइजीरिया की सबसे बड़ी अदालत का दरवाजा खटखटाएंगे। भारती एयरटेल यह साफ करना चाहती है कि इस फैसले से एयरटेल नाइजीरिया में उसके या दूसरे शेयरधारकों की हिस्सेदारी पर कोई असर नहीं पड़ेगा।Ó भारती एयरटेल ने एक बयान जारी कर कहा कि एयरटेल नाइजीरिया वहां के उच्चतम न्यायालय में ईकोनेट की 5 फीसदी हिस्सेदारी के दावे के खिलाफ याचिका पहले ही दायर कर चुकी है। प्रवक्ता ने कहा, 'वैसे भी ये शेयर एस्क्रो खाते यानी सौदे के दौरान बने अस्थायी खाते में रखे जाते हैं और इससे एयरटेल नाइजीरिया में भारती एयरटेल की 79.06 फीसदी हिस्सेदारी पर असर नहीं पड़ेगा।Ó बहरहाल फैसले की खबर के बाद आज बंबई स्टॉक एक्सचेंज पर भारती एयरटेल का शेयर 1.96 फीसदी गिरकर 296.8 रुपये पर बंद हुआ। \n",
      "SUMMARIZATION Model output : 'अंधाधुन' के लिए भारत में नहीं है : डब्ल्यूटीसी भारत भारत भारत भारत भारत भारत भारत भारत भारत भारत भारत भारत भारत भारत भारत भारत भारत भारत भारत भारत भारत भारत भारत भारत भारत भारत भारत भारत भारत भारत भारत भारत भारत भारत भारत भारत भारत भारत भारत भारत भारत भारत भारत भारत भारत भारत भारत भारत भारत भारत भारत भारत भारत भारत \n",
      "Ground Truth : ऊपरी अदालत में जाएगी भारती \n",
      "\n",
      "****************************************************************************************************\n",
      "****************************************************************************************************\n",
      "\n",
      "SUMMARIZATION Model input : ऐक्सिस बैंक की प्रबंध निदेशक एवं मुख्य कार्याधिकारी शिखा शर्मा ने 2010 में जब 1,400 करोड़ रुपये के एक सौदे के तहत एनाम के अधिग्रहण का निर्णय लिया था तो विश्लेषकों ने अधिक मूल्यांकन को लेकर चिंता जताई थी। यह सौदा ऐसे समय में किया गया था जब शेयर बाजार बेहतर प्रदर्शन नहीं कर पा रहा था। इस सौदे को कई बदलावों व नियामकीय बाधाओं से गुजरना पड़ा। उस दौरान शर्मा ने जब कहा था कि ऐक्सिस बैंक को अपने कारोबार के मेलजोल के अंतर को पाटने की जरूरत है तो उनकी बातों को कुछ ही लोगों तवज्जो दिया था। भारत के तीसरे सबसे बड़े बैंक के इस प्रबंध निदेशक एवं मुख्य कार्याधिकारी की पहल अब रंग लाने लगी है। इसका अंदाजा इसी तथ्य से लगाया जा सकता है कि उस दौरान उनकी आलोचना करने वाले लोग अब उनकी प्रशंसा करने लगे हैं। उनका कहना है कि वन-स्टॉप शॉप स्थापित करने, ऐक्सिस कैपिटल और ऐक्सिस सिक्योरिटीज के लिए उनकी रणनीति बिल्कुल सही साबित हुई। बाजार ने शर्मा के वन-स्टॉप शॉप मॉडल का जोरदार स्वागत किया और पिछले एक साल के दौरान ऐक्सिस बैंक के शेयर में 40 फीसदी की जबरदस्त उछाल दर्ज की गई जबकि बीएसई बैंकेक्स में महज 12 फीसदी की बढ़त हुई। ब्लूमबर्ग के आंकड़ों के अनुसार, वित्त वर्ष 2015 में ऐक्सिस बैंक 17.7 फीसदी बाजार हिस्सेदारी के साथ ऋण बाजार के प्रमुख खिलाडिय़ों में सबसे आगे रहा। इस दौरान उसने 313 इश्यू का संचालन किया और जबरदस्त मार्जिन के साथ करीबी प्रतिस्पर्धी को भी मात दे दिया। इक्विटी कारोबार में बैंक शीर्ष की सूची में शामिल हो गई जबकि ऋण बाजार में उसकी सफलता अभी भी चमत्कारी लग रही है। एनाम का अधिग्रहण शर्मा की रणनीति का महज एक हिस्सा है। उनके कार्यभाल संभालने के तुरंत बाद बैंक प्रबंधन द्वारा अपनाई जाने वाली रणनीति दृष्टिï 2015 दस्तावेज के अनुसार, ऐक्सिस बैंक ने अपनी कॉरपोरेट बैंक की छवि को बदलकर खुदरा कारोबार पर बराबर ध्यान केंद्रित करने का निर्णय लिया। इस बदलाव का एक प्रमुख कारण यह था कि बुनियादी ढांचा कर्ज पर अधिक ध्यान देने से अर्थव्यवस्था में मंदी और मुद्रास्फीति बढऩे पर बैंक को कहीं अधिक झटका लग सकता था। परिणाम काफी उत्साहजनक रहे। मार्च 2015 के अंत तक बैंक के कुल ऋण कारोबार में खुदरा अग्रिम की हिस्सेदारी बढ़कर 40 फीसदी हो गई जो मार्च 2009 के अंत में 27 फीसदी रही थी। जबकि इस दौरान आईसीआईसीआई बैंक ने कई खुदरा ऋण से पीछे हट गई। सोच-समझकर लिए गए निर्णय के कारण ऐक्सिस बैंक के कॉरपोरेट ऋण की हिस्सेदारी भी 51 फीसदी से घटकर 45 फीसदी रह गई। ऐक्सिस बैंक ने अपने खुदरा कारोबार में वृद्धि की लेकिन मुनाफे की कीमत पर ऐसा नहीं किया गया। पिछले छह साल के दौरान शर्मा ने बैंक की वृद्धि को बरकरार रखने में सफल रहीं। वित्त वर्ष 2010 और वित्त वर्ष 2015 के बीच बैंक के शुद्ध मुनाफे में 24 फीसदी की वृद्धि दर्ज की गई। जबकि इस दौरान इक्विटी पर रिटर्न में औसतन 18.89 फीसदी की वृद्धि हुई और इस दौरान बैंक के बहीखाते में तीन गुना से अधिक वृद्धि दर्ज की गई। 31 मार्च 2009 को बैंक के बहीखाते का आकार 1,47,722.05 करोड़ रुपये था जो बढ़कर 31 मार्च 2015 को 4,61,932 करोड़ रुपये हो चुका है। संबंधित खबरें \n",
      "SUMMARIZATION Model output : 'अंधाधुन' के लिए 'अकीरा' 'अकीरा' 'अकीरा' 'अकीरा' 'अकीरा' 'अकीरा' 'अकीरा' 'अकीरा' 'अकीरा' 'अकीरा' 'अकीरा' 'अकीरा' 'अकीरा' 'अकीरा' 'अकीरा' 'अकीरा' 'अकीरा' 'अद कपिल शर्मा की जरूरत' 'अकीरा' \n",
      "Ground Truth : ऐक्सिस बैंकः प्रदर्शन में जबरदस्त सुधार \n",
      "\n",
      "****************************************************************************************************\n",
      "****************************************************************************************************\n",
      "\n",
      "SUMMARIZATION Model input : छत्तीसगढ़ में एक बड़ी परियोजना लगाने के क्रम में श्रम कानूनों की कथित तौर पर अवहेलना करने पर चीन की कंपनी शानदोंग इलैक्ट्रिक पावर कंस्ट्रक्शन कार्प (एसईपीसीओ) को राज्य सरकार ने नोटिस जारी कर दिया है। राज्य के श्रम विभाग ने 1996 के एक श्रम कानून की कथित अवहेलना के लिए कंपनी को नोटिस जारी किया है और उससे 10 करोड़ रुपये के बकाया उपकर चुकाने को कहा है। श्रम विभाग के एक वरिष्ठï अधिकारी ने बताया कि नोटिस कंपनी, उसके प्रमुख और महाप्रबंधक के नाम से जारी किया गया है। अधिकारी ने यह भी बताया कि राज्य में परियोजना लगाते वक्त कंपनी को यह उपकर सरकार के पास जमा करना था लेकिन कंपनी ने ऐसा नहीं किया। चीन की इस कंपनी ने वेदांत के स्वामित्व वाली भारत एल्युमीनियम कंपनी (बाल्को) लिमिटेड के साथ इंजीनियरिंग प्रॉक्यूरमेंट ऐंड कंस्ट्रक्शन (ईपीसी) समझौता किया था। 20 अगस्त 2007 को हुए इस समझौते के तहत 300 मेगावॉट उत्पादन क्षमता वाले तीन संयंत्र लगाए जाने थे। इस बिजली इकाई का निर्माण कार्य 23 सितंबर 2009 को चिमनी ढह जाने से बाधित हुआ था। उस दुर्घटना में 41 मजदूरों की मौत हो गई थी। उस वक्त कोरबा पुलिस ने तीन चीनी लोगों को गिरफ्तार किया था। उनमें परियोजना प्रभारी वू चुनान, इंजीनियर ओ लू और वान कुंग शामिल थे।  श्रम अधिकारी ने कहा, 'कानून के तहत परियोजना लागत का एक निश्चित हिस्सा सरकार को उपकर के तौर पर कंपनी द्वारा दिया जाना था। जिसका इस्तेमाल मजदूरों के कल्याण के लिए होना था।Ó \n",
      "SUMMARIZATION Model output : 'अंधाधुन' के लिए 'अकीरा पोस्टर पोस्टर पोस्टर जारी 'अकीरा महंगाई 'अकी रिलीज होगी रिलीज 'अकी कीमतों' 'अकी कीमतों में नहीं है : डब्ल्यूटीएम 'अदबजरीवाल 'अदबजरीवाल 'अदबजरीवाल 'अदबजरीवाल 'अदबजरीवाल 'अदबजरीवाल 'अदबजरीवाल 'अदबजरीर 'अदबॉय कुमार ' \n",
      "Ground Truth : चीन की कंपनी को मिला नोटिस \n",
      "\n",
      "****************************************************************************************************\n",
      "****************************************************************************************************\n",
      "\n",
      "SUMMARIZATION Model input : नई दिल्लीः मनमाफ़िक तारीख़ पर, मनमाफ़िक ट्रेन में क्यों नहीं मिलता कन्फर्म टिकट।कौन है रेल टिकट का सौदागर और इन दलालों के आगे कैसे फेल हुए प्रभु के तमाम फॉर्मूले? रिज़र्वेशन के नए नियमों स्टिंग- संतोष- क्या हुआ ? रिपोर्टर- ये लोग आ जाते हैं मोटरा-मोटरी लेकर बिहार से ? संतोष- अच्छा आई डी नहीं होगा ? रिपोर्टर- वोटर आईडी था लेकिन जब जाते हैं तो सब मार लेता है ? संतोष- तो एफआईआर तो हो जाएगा ? रिपोर्टर- एफआईआर तो वहां होगा ना जहां है उधर? संतोष- आजकल आनलाइन हो जा रहा है रिपोर्टर- हो जाएगा आईडी मांगेगा तो ? संतोष- एफआईआर दर्ज है पुलिस का नोटिस है तो आईडी क्या मांगेगा आईडी जब चोरी हो गया तभी तो एफआईआर मंगवाया हूं दिल्ली पुलिस का।रिपोर्टर- बना दो रिपोर्टर- (14.56) किसके नाम से दीजिएगा संतोष- नाम तो किसी और का होगा।नाम तो बता दूंगा क्या नाम है? रिपोर्टर- दूसरे के नाम से कोई दिक्कत तो नहीं होगा ना भाई ? संतोष- उनके नाम से एनसीआर काट दूंगा वही नाम बताना है आपको।यही आधा घंटा के बाद 2000 में मिलेगा 1400 रूपए में मिल रहा है आपको डील फाइनल होते ही एजेंट किसी और के नाम का टिकट लाने के लिए अपने एक साथी को भेज देता है।कुछ देर के बाद इस एजेंट का साथी टिकट लेकर आता है उसके बाद शुरू होता है उस ट्रैवल एजेंट का टिकट बेचने का नायाब तरीका।स्टिंग- अजीत(8.57)- इनके पापा का नाम क्या है जो जा रहे हैं रिपोर्टर- मोइनुद्दीन संतोष- मोइनुद्दीन नहीं चलेगा ऐसा करो मोइनुद्दीन की जगह पर मुकेश शर्मा कर दो रिपोर्टर- जो उसमें लिखा हुआ रहेगा वही बोलेंगे ना अजीत- अड्रेस रिपोर्टर- मिन्टो रोड लाल क्वार्टर संतोष- लाल क्वार्टर डाल दो 203 मिन्टो रोड दिल्ली पुलिस के नाम से फ़र्ज़ीवाड़ा, कन्फर्म टिकट के लिए फ़र्ज़ी अब इस दलाल ने हमारी आंखों के सामने जो किया वो हैरान करने वाला था।एजेंट ने अपने कंप्यूटर में अपलोड दिल्ली पुलिस क्राइम ब्रांच के वेबसाइट से एक फर्जी एनसीआर बनाया।दिल्ली पुलिस की साइट का गलत इस्तेमाल कर महज कुछ ही सेकेंड में अपने प्रिंटर से इसने हमारे दस्तावेज खो जाने का दिल्ली पुलिस का एक इन्फार्मेशन रिपोर्ट दे दी।इस रिपोर्ट सबकुछ फर्जी है नाम पता पहचाना और इससे बनानेवाले भी पुलिसवाले नहीं बल्कि टिकट का एक काला कारोबारी है।स्टिंग- संतोष(12.48)-लीजिए सर दिल्ली एनसीआर पुलिस रिपोर्ट भी आ गया क्राइम ब्रांच का रिपोर्टर- नाम क्या बताना होगा इसका? संतोष- राकेश शर्मा मुकेश शर्मा लाल क्वार्टर।नाम पूछेगा खाली दिल्ली पुलिस का स्टाम्प लगा हुआ है।दिल्ली पुलिस का मोनोग्राम लगा हुआ है इससे बड़ा प्रूफ क्या होगा।ऑपरेशन पहाड़गंज का ये सबसे चौंकानेवाला खुलासा है कि टिकट बेचनेवाला एक दलाल दुकान में बैठे बैठे आपको दिल्ली पुलिस के क्राइम ब्रांच का एक फर्जी इंफॉरमेशन रिपोर्ट दे देता है।हमारे अंडर कवर रिपोर्टर ने ट्रैवेल एजेंट के फर्जीवाड़े की जांच दोबारा करने की ठानी।हमारे मन में सवाल था कि क्या दिल्ली पुलिस की वेबसाइट का इस्तेमाल ये धड़ल्ले से करता है या फिर कुछ मामलों में ही ये तरीका अपनाया जाता है।इसबार हमने एसकेटी ट्रैवल्स के संतोष से वाराणसी जाने के लिए दो टिकटों की मांग की।इसके बाद एक बार फिर दलाल के कंप्यूटर से दिल्ली पुलिस का एनसीआर निकाला गया जिसमें लिखा गया कि बैग के साथ मेरे सभी आईडी चोरी हो गए।एनसीआर बनाने के साथ ही ये दलाल बकायदा ये भी समझाता है कि टिकट चेंकिंग के दौरान टीटी से क्या कहना है कैसे कहना है।यानी साफ है कि दलाल ने जो एनसीआर दिया था उसे देखकर दोनों टीटी को फर्जीवाड़े का जरा भी शक नहीं हुआ।जबकि इस एनसीआर पर जिस थाने का नाम लिखा है वैसा कोई पुलिस स्टेशन नई दिल्ली क्षेत्र में है ही नहीं।क्राइम ब्रांच के इस एनसीआर पर आखिर किसी टीटी को शक क्यों नहीं होता ये बड़ा सवाल है।सवाल ये है कि क्या दिल्ली पुलिस को भी इसकी भनक नहीं है।क्या दिल्ली पुलिस दलाल और टीटी सबको इस गोरखधंधे का पता है और ये धंधा तीनों की रजामंदी से चल रहा है।« \n",
      "SUMMARIZATION Model output : 'अंधाधुन' के लिए 'अटल धमाल, 'अटल के लिए एक्टर में नहीं है' 'अटल 'अटल 'अटल 'अटल 'अटल 'अटल 'अटल 'अटल 'अटल 'अटल 'अटल 'अटल 'अटल 'अटल 'अटल 'अटल 'अटल 'अटल 'अटल! 'अटल 'अटल 'अटल 'अटल! 'अटल!' \n",
      "Ground Truth : रेलवे में कन्फर्म टिकट का काला खेल, दिल्ली पुलिस की का फर्जीवाड़ा \n",
      "\n",
      "****************************************************************************************************\n",
      "****************************************************************************************************\n",
      "\n",
      "SUMMARIZATION Model input : उत्पादन क्षेत्र में आई 10 फीसदी की कमी के बावजूद वर्ष 2016-17 में सामान्य मॉनसून के चलते कपास उत्पादन में बढ़ोतरी के आसार है। कॉटन एसोसिएशन ऑफ इंडिया (सीएआई) ने अपनी पहली प्रोजेक्शन रिपोर्ट (कपास उत्पादन अनुमान संबंधी रिपोर्ट) में वर्ष 2016-17 में 3.36 करोड़ गांठों (1 बेल = 170 किलोग्राम) के उत्पादन का अनुमान लगाया है। यह वर्ष 2015-16 के 3.37 करोड़ गांठों के उत्पादन से मामूली रूप से कम है।    अनुमानों पर तैयार की गई बैलेंस शीट के मुताबिक वर्ष 2016-17 के दौरान देश में कुल कपास उत्पादन करीब 4 करोड़ गांठों तक रह सकता है जो पिछले वर्ष के 4.2 करोड़ गांठों के मुकाबले मामूली रूप से कम है। देश में कपास के लिए उत्पादन वर्ष अक्टूबर माह से शुरू होकर प्रत्येक वर्ष सितंबर में समाप्त हो जाता है। सीएआई के अध्यक्ष धीरेन सेठ ने कहा, 'वर्ष 2016-17 में कपास उत्पादन क्षेत्र में तकरीबन 10 फीसदी की कमी है इसके बावजूद वर्ष 2016-17 में मॉनसून बेहतर रहने के चलते कपास उत्पादन में वृद्धि रहने के आसार है। \n",
      "SUMMARIZATION Model output : भारत में 5 लाख की सबसे बड़ी कंपनियों को मिली लाश : रिपोर्ट 'अकीरा' 'अकीरायल भारत भारत भारत भारत भारत भारत भारत भारत भारत भारत भारत भारत भारत भारत भारत भारत भारत भारत भारत भारत भारत भारत भारत भारत भारत भारत भारत भारत भारत भारत भारत में 'अकीरायल' 'अदबॉयलेट 'अदबॉयलेट भारत 'अदबॉयलेटलेटलेटलेटलेट \n",
      "Ground Truth : कपास उत्पादन में बढ़ोतरी का जताया अनुमान \n",
      "\n",
      "****************************************************************************************************\n",
      "****************************************************************************************************\n",
      "\n",
      "SUMMARIZATION Model input : श्रीलंका के खिलाफ रविवार से होने वाली वनडे सिरीज़ के लिए युवराज सिंह और सुरेश रैना को नहीं चुना गया है और वजह है यो-यो टेस्ट जिसे वे पास नहीं कर पाए।नई दिल्लीः श्रीलंका के खिलाफ रविवार से होने वाली वनडे सिरीज़ के लिए युवराज सिंह और सुरेश रैना को नहीं चुना गया है और वजह है यो-यो टेस्ट जिसे वे पास नहीं कर पाए।दरअसल खिलाड़ियों को नियमित रुप से कई तरह के फिटनेस टेस्ट से गुज़रना पड़ता है और इनमें 'यो-यो' टेस्ट सबसे महत्वपूर्ण माना जाता है।ये काफी कठिन टेस्ट होता है जिसमें भारतीय क्रिकेटर्स पास होते रहे हैं और यही वजह है कि फ़िटनेस के मामले में वे आज किसी से पीचे नहीं हैं लेकिन टीम इंडिया के ये दोनों शीर्ष खिलाड़ी नेशनल क्रिकेट अकेडमी में यो-यो एंडुरेंस टेस्ट पास करने में नाकाम रहे।किसी भी सिरीज के पहले प्रत्येक भारतीय खिलाड़ियों के लिए इस टेस्ट से गुजरना ज़रुरी होता है।मौजूदा भारतीय टीम के लिए 19.5 से ज्यादा स्कोर जरूरी होता है।इस टेस्ट में कप्तान विराट कोहली का स्कोर 21 रहा, वहीं युवराज और रैना ने बेहद खराब प्रदर्शन किया।युवराज का स्कोर सिर्फ 16 था।बीसीसीआई के एक अधिकारी ने कहा, औसतन ऑस्ट्रेलियाई खिलाड़ी यो-यो टेस्ट में 21 का स्कोर करते हैं।टीम इंडिया में विराट, रवींद्र जाडेजा, मनीष पांडे लगातार यह स्कोर हासिल कर रहे हैं, जबकि बाकी खिलाड़ियों का स्कोर या तो 19.5 है या उससे ज्यादा. कोच रवि शास्त्री, कप्तान विराट कोहली और सिलेक्शन समिति के अध्यक्ष एसएसके प्रसाद स्पष्ट कर चुके हैं कि फ़िचनेस के मामले में कोई समझौता नहीं किया जाएगा।कैसे होता है यो-यो टेस्ट खिलाड़ियों की फिटनेस परखने के लिए यो-यो टेस्ट 'बीप' टेस्ट का एडवांस वर्जन है।20-20 मीटर की दूरी पर दो लाइनें बनाकर कोन रख दिए जाते हैं।एक छोर की लाइन पर खिलाड़ी का पैर पीछे की ओर होता है और वह दूसरी की तरफ वह दौड़ना शुरू करता है।हर मिनट के बाद गति और बढ़ानी होती है और अगर खिलाड़ी वक्त पर लाइन तक नहीं पहुंच पाता तो उसे दो बीप्स के भीतर लाइन तक पहुंचना होता है।अगर वह ऐसा करने में नाकाम रहा तो उसे फेल माना जाता है।गौरतलब है कि पहले खिलाड़ियों को टैलेंट के आधार पर चुना जाता था, लेकिन अब फिटनेट पर भी ध्यान दिया जाने लगा है।युवराज और रैना टीम इंडिया के सर्वश्रेष्ठ फील्डरों में शुमार होते हैं।अधिकारी ने कहा, 90 के दशक में मोहम्मद अजहरुद्दीन, रॉबिन सिंह और अजय जडेजा को छोड़कर अन्य खिलाड़ियों को 16-16.5 का स्कोर करना होता था लेकिन अब कप्तान विराट कोहली बेंचमार्क को छू रहे हैं, जिसे ऑस्ट्रेलियाई क्रिकेट टीम ने सेट किया है।पर देश-विदेश की ताजा और स्पेशल स्टोरी पढ़ते हुए अपने आप को रखिए अप-टू-डेट।के लिए क्लिक करें खेल सेक्शन \n",
      "SUMMARIZATION Model output : 'बाहुबली 2' की 'अकाली' के लिए 'द कपिल शर्मा ने किया 'अकीरा' का बचाव 'अकीरायल' 'अकीरायल' 'अकीरायल' 'अकीरायल' 'अकीरायल' 'अकीरायल' 'अकीरायल' 'अकीरायल' 'अकीरायल' 'अकीरायल' 'अकीरायल' 'अकीरायल' 'अकीरायलं, कहा- 'अं- ' \n",
      "Ground Truth : जानें क्या है यो-यो टेस्ट जिसने डुबोई युवराज और रैना की नैया \n",
      "\n",
      "****************************************************************************************************\n",
      "****************************************************************************************************\n",
      "\n",
      "SUMMARIZATION Model input : बजाज औद्योगिक घराने में छह वर्षों से चल रहा घरेलू विवाद सुलझ गया है। इसके तहत समूह के अध्यक्ष राहुल बजाज ने चीनी कंपनी हिंदुस्तान बजाज के 29 प्रतिशत शेयर कुल 265.67 करोड़ रुपये मूल्य में खरीद लिए हैं। बंबई स्टॉक एक्सचेंज में उपलब्ध आंकड़ों के मुताबिक राहुल बजाज ने ब्लॉक डील के तहत बजाज हिन्दुस्तान के 3,98,89,840 शेयर 64.34 रुपये प्रतिशेयर की दर से खरीदे। वहीं दूसरी ओर, बंबई स्टॉक एक्सचेंज में एक बड़े सौदे के तहत राहुल बजाज ने बजाज हिंदुस्तान के 14,00,540 शेयरों का अधिग्रहण 64.34 रुपये प्रति शेयर की दर से खरीदे और जिसके लिए कुल 9.01 करोड़ रुपये की राशि खर्च की गई। बीएसई के आंकडों के मुताबिक राहुल बजाज ने दो ब्लॉक डीलों के तहत बच्छराज ऐंड कं से 3.46 करोड़ शेयर खरीदे और जमनालाल संस से 51.93 लाख शेयरों की खरीददारी की। \n",
      "SUMMARIZATION Model output : 'अंधाधुन' के लिए भारत में नहीं दिखेंगे 'अकी' 'अकी कीमतें 'अकी कीमतें 'अकी कीमतें 'अकी कीमतें 'अकी कीमतें 'अकी कीमतें 'अकी कीमतें 'अकी कीमतें 'अकी कीमतें 'अकी कीमतें 'अकी कीमतें 'अकी कीमतें 'अकी कीमतें 'अद कपिल शर्मसार 'अकीरा 'अद-एयरल 'अदने' 'अदने \n",
      "Ground Truth : राहुल बजाज ने हिंदुस्तान बजाज के 29 फीसदी शेयर खरीदे \n",
      "\n",
      "****************************************************************************************************\n",
      "****************************************************************************************************\n",
      "\n",
      "SUMMARIZATION Model input : कांग्रेस ने मंगलवार को पार्टी महासचिव दिग्विजय सिंह को तेलंगाना में पार्टी के प्रभारी पद से हटाकर आर.सी.खूंटिया को इस पद पर नियुक्त किया।पार्टी की एक विज्ञप्ति के मुताबिक, \"तेलंगाना में पार्टी के मामलों को देखने के लिए कांग्रेस अध्यक्ष सोनिया गांधी नई दिल्लीः कांग्रेस ने मंगलवार को पार्टी महासचिव दिग्विजय सिंह को तेलंगाना में पार्टी के प्रभारी पद से हटाकर आर.सी.खूंटिया को इस पद पर नियुक्त किया।पार्टी की एक विज्ञप्ति के मुताबिक, \"तेलंगाना में पार्टी के मामलों को देखने के लिए कांग्रेस अध्यक्ष सोनिया गांधी ने ऑल इंडिया कांग्रेस कमेटी (एआईसीसी) की एक नई कमेटी को मंजूरी दी है।\" विज्ञप्ति के मुताबिक, पार्टी से संबंधित कार्यो में खूंटिया की मदद पार्टी सचिव के रूप में सतीश जारकिहोली करेंगे।बता दें कि सिंह को तेलंगाना के प्रभारी महासचिव की जिम्मेदारी से पहले ही मुक्त कर दिया गया था।इससे पहले, अप्रैल में दिग्विजय सिंह को कर्नाटक व गोवा के प्रभारी पद से हटाया गया था, जहां कांग्रेस सबसे बड़ी पार्टी के रूप में उभरने के बावजूद सरकार बनाने में नाकाम रही थी।गौरतलब है कि दिग्विजय सिंह अपने कार्यकल में अपने कामकाज से ज्यादा कई विवादास्पद बयान देकर सुर्खियों में छाये रहे।पर देश-विदेश की ताजा और स्पेशल स्टोरी पढ़ते हुए अपने आप को रखिए अप-टू-डेट।के लिए क्लिक करें भारत सेक्शन \n",
      "SUMMARIZATION Model output : 'अंधाधुन' के लिए भारत में नहीं है : डब्ल्यूटीसी भारत भारत भारत भारत भारत भारत भारत भारत भारत भारत भारत भारत भारत भारत भारत भारत भारत भारत भारत भारत भारत भारत भारत भारत भारत भारत भारत भारत भारत भारत भारत भारत भारत भारत भारत भारत भारत भारत भारत भारत भारत भारत भारत भारत भारत भारत भारत भारत भारत भारत भारत भारत भारत भारत \n",
      "Ground Truth : दिग्विजय सिंह को तेलंगाना में पार्टी प्रभारी पद से हटाया गया, महासचिव पद से भी छुट्टी \n",
      "\n",
      "****************************************************************************************************\n"
     ]
    }
   ],
   "source": [
    "generated_text = evaluate_model(model_path,input_text,target_text,task)\n",
    "\n"
   ]
  },
  {
   "cell_type": "markdown",
   "id": "b4717996-76f6-4e36-8f64-1cd98ce703d9",
   "metadata": {},
   "source": [
    "## Evaluation Metrics"
   ]
  },
  {
   "cell_type": "code",
   "execution_count": 39,
   "id": "b79a6ed1-955b-44a0-b9ba-9055bd0c5cee",
   "metadata": {},
   "outputs": [
    {
     "name": "stderr",
     "output_type": "stream",
     "text": [
      "[nltk_data] Downloading package punkt to /home/jupyter/nltk_data...\n",
      "[nltk_data]   Package punkt is already up-to-date!\n"
     ]
    },
    {
     "data": {
      "text/plain": [
       "True"
      ]
     },
     "execution_count": 39,
     "metadata": {},
     "output_type": "execute_result"
    }
   ],
   "source": [
    "from nltk.translate.bleu_score import corpus_bleu\n",
    "from nltk.translate.bleu_score import SmoothingFunction\n",
    "from nltk.translate import bleu_score\n",
    "import nltk\n",
    "from rouge import Rouge\n",
    "from pycocoevalcap.cider.cider import Cider\n",
    "nltk.download('punkt')"
   ]
  },
  {
   "cell_type": "code",
   "execution_count": 40,
   "id": "cf4a57f6-9adc-4e61-bf99-0af4b8f103b1",
   "metadata": {},
   "outputs": [],
   "source": [
    "def calculate_bleu_scores(actual, generated):\n",
    "    smoothie = SmoothingFunction().method4\n",
    "    actual_tokenized = [nltk.word_tokenize(group) for group in actual]\n",
    "    generated_tokenized = [nltk.word_tokenize(gen) for gen in generated]\n",
    "    \n",
    "    score = corpus_bleu(actual_tokenized, generated_tokenized, smoothing_function=smoothie)\n",
    "    return score\n",
    "\n",
    "def calculate_rouge_scores(actual, generated):\n",
    "    rouge = Rouge()\n",
    "    scores = rouge.get_scores(generated, actual)\n",
    "    return scores\n",
    "\n",
    "def calculate_cider_scores(actual, generated):\n",
    "    act_dict = {idx: [line] for idx, line in enumerate(actual)}\n",
    "    gen_dict = {idx: [line] for idx, line in enumerate(generated)}\n",
    "    cider = Cider()\n",
    "    (score, scores) = cider.compute_score(act_dict, gen_dict)\n",
    "    return score"
   ]
  },
  {
   "cell_type": "code",
   "execution_count": 41,
   "id": "8386429b-2258-4f1b-bf1f-3a421166fe04",
   "metadata": {},
   "outputs": [
    {
     "data": {
      "text/plain": [
       "0.0008824955654141738"
      ]
     },
     "execution_count": 41,
     "metadata": {},
     "output_type": "execute_result"
    }
   ],
   "source": [
    "calculate_bleu_scores(target_text, generated_text)"
   ]
  },
  {
   "cell_type": "code",
   "execution_count": 42,
   "id": "fd06898c-2b5d-46e3-97a2-63e427d00ae4",
   "metadata": {},
   "outputs": [
    {
     "data": {
      "text/plain": [
       "[{'rouge-1': {'r': 0.2, 'p': 0.125, 'f': 0.1538461491124262},\n",
       "  'rouge-2': {'r': 0.0, 'p': 0.0, 'f': 0.0},\n",
       "  'rouge-l': {'r': 0.2, 'p': 0.125, 'f': 0.1538461491124262}},\n",
       " {'rouge-1': {'r': 0.05555555555555555,\n",
       "   'p': 0.08333333333333333,\n",
       "   'f': 0.066666661866667},\n",
       "  'rouge-2': {'r': 0.0, 'p': 0.0, 'f': 0.0},\n",
       "  'rouge-l': {'r': 0.05555555555555555,\n",
       "   'p': 0.08333333333333333,\n",
       "   'f': 0.066666661866667}},\n",
       " {'rouge-1': {'r': 0.2, 'p': 0.1111111111111111, 'f': 0.14285713826530627},\n",
       "  'rouge-2': {'r': 0.0, 'p': 0.0, 'f': 0.0},\n",
       "  'rouge-l': {'r': 0.2, 'p': 0.1111111111111111, 'f': 0.14285713826530627}},\n",
       " {'rouge-1': {'r': 0.0, 'p': 0.0, 'f': 0.0},\n",
       "  'rouge-2': {'r': 0.0, 'p': 0.0, 'f': 0.0},\n",
       "  'rouge-l': {'r': 0.0, 'p': 0.0, 'f': 0.0}},\n",
       " {'rouge-1': {'r': 0.0, 'p': 0.0, 'f': 0.0},\n",
       "  'rouge-2': {'r': 0.0, 'p': 0.0, 'f': 0.0},\n",
       "  'rouge-l': {'r': 0.0, 'p': 0.0, 'f': 0.0}},\n",
       " {'rouge-1': {'r': 0.09090909090909091,\n",
       "   'p': 0.09090909090909091,\n",
       "   'f': 0.09090908590909119},\n",
       "  'rouge-2': {'r': 0.0, 'p': 0.0, 'f': 0.0},\n",
       "  'rouge-l': {'r': 0.09090909090909091,\n",
       "   'p': 0.09090909090909091,\n",
       "   'f': 0.09090908590909119}},\n",
       " {'rouge-1': {'r': 0.14285714285714285,\n",
       "   'p': 0.05555555555555555,\n",
       "   'f': 0.07999999596800021},\n",
       "  'rouge-2': {'r': 0.0, 'p': 0.0, 'f': 0.0},\n",
       "  'rouge-l': {'r': 0.14285714285714285,\n",
       "   'p': 0.05555555555555555,\n",
       "   'f': 0.07999999596800021}},\n",
       " {'rouge-1': {'r': 0.08333333333333333,\n",
       "   'p': 0.05263157894736842,\n",
       "   'f': 0.06451612428720119},\n",
       "  'rouge-2': {'r': 0.0, 'p': 0.0, 'f': 0.0},\n",
       "  'rouge-l': {'r': 0.08333333333333333,\n",
       "   'p': 0.05263157894736842,\n",
       "   'f': 0.06451612428720119}},\n",
       " {'rouge-1': {'r': 0.1111111111111111,\n",
       "   'p': 0.058823529411764705,\n",
       "   'f': 0.07692307239644997},\n",
       "  'rouge-2': {'r': 0.0, 'p': 0.0, 'f': 0.0},\n",
       "  'rouge-l': {'r': 0.1111111111111111,\n",
       "   'p': 0.058823529411764705,\n",
       "   'f': 0.07692307239644997}},\n",
       " {'rouge-1': {'r': 0.07142857142857142,\n",
       "   'p': 0.1111111111111111,\n",
       "   'f': 0.0869565169754256},\n",
       "  'rouge-2': {'r': 0.0, 'p': 0.0, 'f': 0.0},\n",
       "  'rouge-l': {'r': 0.07142857142857142,\n",
       "   'p': 0.1111111111111111,\n",
       "   'f': 0.0869565169754256}}]"
      ]
     },
     "execution_count": 42,
     "metadata": {},
     "output_type": "execute_result"
    }
   ],
   "source": [
    "calculate_rouge_scores(target_text, generated_text)"
   ]
  },
  {
   "cell_type": "code",
   "execution_count": 43,
   "id": "cf501641-89ca-4fc8-b638-bbef7eab4ee3",
   "metadata": {},
   "outputs": [
    {
     "data": {
      "text/plain": [
       "3.901712782286613e-05"
      ]
     },
     "execution_count": 43,
     "metadata": {},
     "output_type": "execute_result"
    }
   ],
   "source": [
    "calculate_cider_scores(target_text, generated_text)"
   ]
  },
  {
   "cell_type": "code",
   "execution_count": null,
   "id": "889b6eff-c053-42d6-bfa3-a011bb776955",
   "metadata": {},
   "outputs": [],
   "source": []
  }
 ],
 "metadata": {
  "environment": {
   "kernel": "python3",
   "name": "pytorch-gpu.1-13.m110",
   "type": "gcloud",
   "uri": "gcr.io/deeplearning-platform-release/pytorch-gpu.1-13:m110"
  },
  "kernelspec": {
   "display_name": "Python 3",
   "language": "python",
   "name": "python3"
  },
  "language_info": {
   "codemirror_mode": {
    "name": "ipython",
    "version": 3
   },
   "file_extension": ".py",
   "mimetype": "text/x-python",
   "name": "python",
   "nbconvert_exporter": "python",
   "pygments_lexer": "ipython3",
   "version": "3.10.12"
  }
 },
 "nbformat": 4,
 "nbformat_minor": 5
}
